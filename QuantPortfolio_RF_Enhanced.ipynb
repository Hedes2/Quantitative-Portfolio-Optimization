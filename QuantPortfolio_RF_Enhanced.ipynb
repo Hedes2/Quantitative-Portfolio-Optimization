{
 "cells": [
  {
   "cell_type": "markdown",
   "metadata": {},
   "source": [
    "# Quantitative Portfolio Management with Random Forest"
   ]
  },
  {
   "cell_type": "code",
   "execution_count": null,
   "metadata": {},
   "outputs": [],
   "source": [
    "import numpy as np\n",
    "import pandas as pd\n",
    "import matplotlib.pyplot as plt\n",
    "import seaborn as sns\n",
    "from sklearn.ensemble import RandomForestRegressor\n",
    "from sklearn.model_selection import train_test_split\n",
    "import yfinance as yf\n",
    "import scipy.optimize as sco\n",
    "plt.style.use('seaborn-v0_8')"
   ]
  },
  {
   "cell_type": "code",
   "execution_count": null,
   "metadata": {},
   "outputs": [],
   "source": [
    "tickers = ['AAPL', 'MSFT', 'META', 'INTC', 'DIS', 'AMZN', 'KO', 'TSLA', 'BTC-USD', 'GLD']\n",
    "tickers.sort()\n",
    "start = \"2015-01-01\"\n",
    "end = \"2024-12-31\"\n",
    "stocks = pd.DataFrame()\n",
    "for stock in tickers:\n",
    "    stocks[stock] = yf.download(stock, start, end)['Close']"
   ]
  },
  {
   "cell_type": "code",
   "execution_count": null,
   "metadata": {},
   "outputs": [],
   "source": [
    "stocks = stocks.dropna()\n",
    "daily_ret = np.log(stocks / stocks.shift(1)).dropna()\n",
    "annual_ret = daily_ret.mean() * 252\n",
    "cov_mat = daily_ret.cov() * 252"
   ]
  },
  {
   "cell_type": "code",
   "execution_count": null,
   "metadata": {},
   "outputs": [],
   "source": [
    "features = []\n",
    "target = []\n",
    "lookback = 10\n",
    "for i in range(lookback, len(daily_ret)):\n",
    "    features.append(daily_ret.iloc[i-lookback:i].values.flatten())\n",
    "    target.append(daily_ret.iloc[i].values)\n",
    "features = np.array(features)\n",
    "target = np.array(target)\n",
    "X_train, X_test, y_train, y_test = train_test_split(features, target, test_size=0.2, random_state=42)\n",
    "model = RandomForestRegressor(n_estimators=100, random_state=42)\n",
    "model.fit(X_train, y_train)\n",
    "predicted_daily_return = model.predict(features[-1].reshape(1, -1))[0]\n",
    "predicted_annual_return = predicted_daily_return * 252"
   ]
  },
  {
   "cell_type": "code",
   "execution_count": null,
   "metadata": {},
   "outputs": [],
   "source": [
    "def portfolio_volatility(weights, returns, cov_matrix):\n",
    "    return np.sqrt(np.dot(weights.T, np.dot(cov_matrix, weights)))\n",
    "def negative_sharpe(weights, returns, cov_matrix, rf=0):\n",
    "    port_return = np.dot(weights, returns)\n",
    "    port_vol = portfolio_volatility(weights, returns, cov_matrix)\n",
    "    return -(port_return - rf) / port_vol\n",
    "n_assets = len(tickers)\n",
    "initial_weights = np.ones(n_assets) / n_assets\n",
    "bounds = tuple((0, 1) for _ in range(n_assets))\n",
    "constraints = ({'type': 'eq', 'fun': lambda x: np.sum(x) - 1})\n",
    "opt = sco.minimize(negative_sharpe, initial_weights, args=(predicted_annual_return, cov_mat),\n",
    "                   method='SLSQP', bounds=bounds, constraints=constraints)\n",
    "opt_weights = opt.x"
   ]
  },
  {
   "cell_type": "code",
   "execution_count": null,
   "metadata": {},
   "outputs": [],
   "source": [
    "portfolio = pd.DataFrame({'Asset': tickers, 'Weight': opt_weights})\n",
    "print(portfolio.sort_values(by='Weight', ascending=False))"
   ]
  },
  {
   "cell_type": "code",
   "execution_count": null,
   "metadata": {},
   "outputs": [],
   "source": [
    "plt.figure(figsize=(12,6))\n",
    "plt.bar(portfolio['Asset'], portfolio['Weight'])\n",
    "plt.title('Optimal Portfolio Allocation (ML-based Expected Returns)')\n",
    "plt.xlabel('Asset')\n",
    "plt.ylabel('Weight')\n",
    "plt.grid(True)\n",
    "plt.show()"
   ]
  }
 ],
 "metadata": {
  "kernelspec": {
   "display_name": "Python 3",
   "language": "python",
   "name": "python3"
  },
  "language_info": {
   "name": "python",
   "version": "3.11"
  }
 },
 "nbformat": 4,
 "nbformat_minor": 5
}